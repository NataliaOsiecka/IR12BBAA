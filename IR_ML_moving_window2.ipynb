{
  "nbformat": 4,
  "nbformat_minor": 0,
  "metadata": {
    "colab": {
      "name": "IR_ML-moving-window2.ipynb",
      "provenance": [],
      "mount_file_id": "156J5AJ4h9iynqLxG3oW85oF2gZ-jb9ic",
      "authorship_tag": "ABX9TyPmHlbH0uH2hHcC91v51ff8",
      "include_colab_link": true
    },
    "kernelspec": {
      "name": "python3",
      "display_name": "Python 3"
    }
  },
  "cells": [
    {
      "cell_type": "markdown",
      "metadata": {
        "id": "view-in-github",
        "colab_type": "text"
      },
      "source": [
        "<a href=\"https://colab.research.google.com/github/NataliaOsiecka/IR12BBAA/blob/master/IR_ML_moving_window2.ipynb\" target=\"_parent\"><img src=\"https://colab.research.google.com/assets/colab-badge.svg\" alt=\"Open In Colab\"/></a>"
      ]
    },
    {
      "cell_type": "code",
      "metadata": {
        "id": "Maeh7CDVT5yJ",
        "colab_type": "code",
        "colab": {
          "base_uri": "https://localhost:8080/",
          "height": 34
        },
        "outputId": "a6ce73b8-8002-4548-e370-0151e3e7b68c"
      },
      "source": [
        "cd '/content/drive/My Drive/IR_ML'"
      ],
      "execution_count": 85,
      "outputs": [
        {
          "output_type": "stream",
          "text": [
            "/content/drive/My Drive/IR_ML\n"
          ],
          "name": "stdout"
        }
      ]
    },
    {
      "cell_type": "code",
      "metadata": {
        "id": "au-7mNQ9T9g3",
        "colab_type": "code",
        "colab": {
          "base_uri": "https://localhost:8080/",
          "height": 255
        },
        "outputId": "1855f84c-5d38-4c58-f5c9-4ba5bfaf1776"
      },
      "source": [
        "ls"
      ],
      "execution_count": 86,
      "outputs": [
        {
          "output_type": "stream",
          "text": [
            "12BBAAT100P0.CSV  12BBAAT114P0.CSV  12BBAAT97P0.CSV\n",
            "12BBAAT101P0.CSV  12BBAAT115P0.CSV  12BBAAT98P0.CSV\n",
            "12BBAAT102P0.CSV  12BBAAT116P0.CSV  12BBAAT99P0.CSV\n",
            "12BBAAT103P0.CSV  12BBAAT117P0.CSV  corrcoef_plot.png\n",
            "12BBAAT104P0.CSV  12BBAAT118P0.CSV  dendrogram.png\n",
            "12BBAAT105P0.CSV  12BBAAT119P0.CSV  dendrogram_random_forest.png\n",
            "12BBAAT106P0.CSV  12BBAAT120P0.CSV  elbow_method.png\n",
            "12BBAAT107P0.CSV  12BBAAT90P0.CSV   moving_window_11.png\n",
            "12BBAAT108P0.CSV  12BBAAT91P0.CSV   moving_window_17.png\n",
            "12BBAAT109P0.CSV  12BBAAT92P0.CSV   moving_window_19.png\n",
            "12BBAAT110P0.CSV  12BBAAT93P0.CSV   moving_window_20.png\n",
            "12BBAAT111P0.CSV  12BBAAT94P0.CSV   moving_window_22.png\n",
            "12BBAAT112P0.CSV  12BBAAT95P0.CSV   moving_window_49.png\n",
            "12BBAAT113P0.CSV  12BBAAT96P0.CSV\n"
          ],
          "name": "stdout"
        }
      ]
    },
    {
      "cell_type": "code",
      "metadata": {
        "id": "HjHgWHDcUJju",
        "colab_type": "code",
        "colab": {}
      },
      "source": [
        "import glob\n",
        "import matplotlib.pyplot as plt\n",
        "import numpy as np\n",
        "import pandas as pd\n",
        "import seaborn as sns\n",
        "\n",
        "from google.colab import files\n",
        "from scipy import integrate\n",
        "from scipy.cluster.hierarchy import dendrogram, linkage\n",
        "from sklearn.cluster import KMeans\n",
        "from statistics import mean "
      ],
      "execution_count": 0,
      "outputs": []
    },
    {
      "cell_type": "code",
      "metadata": {
        "id": "H0Qj4MKQUPyg",
        "colab_type": "code",
        "colab": {
          "base_uri": "https://localhost:8080/",
          "height": 54
        },
        "outputId": "d9984fd5-4c65-45df-a41e-71888cc1fe30"
      },
      "source": [
        "filenames=(glob.glob('12BBAAT*.CSV', recursive=True))\n",
        "print(filenames)\n",
        "\n",
        "df=np.zeros((1869,32))\n",
        "temperature=[]\n",
        "\n",
        "for i, item in enumerate(filenames):\n",
        "    t=item[7:]\n",
        "    temp=t[:-6]\n",
        "    temperature.append(temp)\n",
        "    data=np.loadtxt(item, delimiter=',')\n",
        "    if data.shape[0]<1869:\n",
        "        for j,it in enumerate(data[:,1]):\n",
        "            df[j,i+1]=it\n",
        "    else:\n",
        "        df[:,i+1]=data[:,1]\n",
        "        df[:,0]=data[:,0]\n",
        "\n",
        "df_new=df[125:1505,:]\n",
        "\n",
        "pd_df=pd.DataFrame(data=df_new[:,1:], \n",
        "                   index=df_new[:,0],\n",
        "                   columns=temperature)\n",
        "\n",
        "drop_wavenumber = []\n",
        "wavenumber_list = list(pd_df.index)\n",
        "for item in wavenumber_list:\n",
        "  if item > 1730 and item < 2785:\n",
        "    drop_wavenumber.append(item)\n",
        "\n",
        "pd_df.drop(drop_wavenumber, axis=0, inplace=True)\n",
        "\n",
        "df_norm = (pd_df-pd_df.min())/(pd_df.max()-pd_df.min())\n"
      ],
      "execution_count": 88,
      "outputs": [
        {
          "output_type": "stream",
          "text": [
            "['12BBAAT120P0.CSV', '12BBAAT119P0.CSV', '12BBAAT118P0.CSV', '12BBAAT117P0.CSV', '12BBAAT116P0.CSV', '12BBAAT115P0.CSV', '12BBAAT114P0.CSV', '12BBAAT113P0.CSV', '12BBAAT112P0.CSV', '12BBAAT111P0.CSV', '12BBAAT110P0.CSV', '12BBAAT109P0.CSV', '12BBAAT108P0.CSV', '12BBAAT107P0.CSV', '12BBAAT106P0.CSV', '12BBAAT105P0.CSV', '12BBAAT104P0.CSV', '12BBAAT103P0.CSV', '12BBAAT102P0.CSV', '12BBAAT101P0.CSV', '12BBAAT100P0.CSV', '12BBAAT99P0.CSV', '12BBAAT98P0.CSV', '12BBAAT97P0.CSV', '12BBAAT96P0.CSV', '12BBAAT95P0.CSV', '12BBAAT94P0.CSV', '12BBAAT93P0.CSV', '12BBAAT92P0.CSV', '12BBAAT91P0.CSV', '12BBAAT90P0.CSV']\n"
          ],
          "name": "stdout"
        }
      ]
    },
    {
      "cell_type": "code",
      "metadata": {
        "id": "vbyHy8ImU9K0",
        "colab_type": "code",
        "colab": {
          "base_uri": "https://localhost:8080/",
          "height": 34
        },
        "outputId": "9dfc4bfc-217a-43e8-e78f-48a3699369f4"
      },
      "source": [
        "pd_df.shape"
      ],
      "execution_count": 89,
      "outputs": [
        {
          "output_type": "execute_result",
          "data": {
            "text/plain": [
              "(833, 31)"
            ]
          },
          "metadata": {
            "tags": []
          },
          "execution_count": 89
        }
      ]
    },
    {
      "cell_type": "code",
      "metadata": {
        "id": "v7LiMjHXVF2w",
        "colab_type": "code",
        "colab": {
          "base_uri": "https://localhost:8080/",
          "height": 34
        },
        "outputId": "0dbbd189-e237-4853-ebc4-067ec71908bc"
      },
      "source": [
        "n = pd_df.shape[0]\n",
        "dividers = [x for x in range(1, n+1) if n % x == 0]\n",
        "print(dividers)"
      ],
      "execution_count": 90,
      "outputs": [
        {
          "output_type": "stream",
          "text": [
            "[1, 7, 17, 49, 119, 833]\n"
          ],
          "name": "stdout"
        }
      ]
    },
    {
      "cell_type": "code",
      "metadata": {
        "id": "8IYhHi1NVS03",
        "colab_type": "code",
        "colab": {}
      },
      "source": [
        "n = int(pd_df.shape[0]/7)\n",
        "intens_clust = np.zeros((n,pd_df.shape[1]))\n",
        "mean_wavenumber = []\n",
        "km = KMeans(n_clusters=4, init='k-means++', n_init=10, max_iter=300, tol=0.00001, random_state=0)\n",
        "for i in range(n):\n",
        "  window = pd_df.iloc[i*7:(i+1)*7].copy()\n",
        "  mean_wavenumber.append(mean(window.index))\n",
        "  df_transposed = window.T\n",
        "  y_km=km.fit_predict(df_transposed)\n",
        "  for j in range(window.shape[1]):\n",
        "    intens_clust[i,j] = y_km[j]"
      ],
      "execution_count": 0,
      "outputs": []
    },
    {
      "cell_type": "code",
      "metadata": {
        "id": "DlEb4v2sVgU3",
        "colab_type": "code",
        "colab": {}
      },
      "source": [
        "new_clust_df=pd.DataFrame(data=intens_clust, \n",
        "                   index=mean_wavenumber,\n",
        "                   columns=temperature)"
      ],
      "execution_count": 0,
      "outputs": []
    },
    {
      "cell_type": "code",
      "metadata": {
        "id": "KDxQMryDVvyi",
        "colab_type": "code",
        "colab": {}
      },
      "source": [
        "clust_df = new_clust_df.T"
      ],
      "execution_count": 0,
      "outputs": []
    },
    {
      "cell_type": "code",
      "metadata": {
        "id": "iAR7zHHVVype",
        "colab_type": "code",
        "colab": {}
      },
      "source": [
        "for i in range(clust_df.shape[1]):\n",
        "  new_vector = clust_df.iloc[:,i].values\n",
        "  #print('orginalny')\n",
        "  #print(new_vector)\n",
        "\n",
        "  index0 = np.where(new_vector == 0)\n",
        "  index1 = np.where(new_vector == 1)\n",
        "  index2 = np.where(new_vector == 2)\n",
        "  index3 = np.where(new_vector == 3)\n",
        "\n",
        "  indexes = [index0[0][0], index1[0][0], index2[0][0], index3[0][0]]\n",
        "\n",
        "  sort_index = sorted(indexes)\n",
        "\n",
        "  for x, item in enumerate(sort_index):\n",
        "    if item in index0[0]:\n",
        "      delta = x-0\n",
        "      new_vector[index0[0]] = new_vector[index0[0]]+delta\n",
        "    elif item in index1[0]:\n",
        "      delta = x-1\n",
        "      new_vector[index1[0]] = new_vector[index1[0]]+delta\n",
        "    elif item in index2[0]:\n",
        "      delta = x-2\n",
        "      new_vector[index2[0]] = new_vector[index2[0]]+delta\n",
        "    elif item in index3[0]:\n",
        "      delta = x-3\n",
        "      new_vector[index3[0]] = new_vector[index3[0]]+delta\n",
        "\n",
        "  clust_df.iloc[:,i] = new_vector\n",
        "  "
      ],
      "execution_count": 0,
      "outputs": []
    },
    {
      "cell_type": "code",
      "metadata": {
        "id": "S06s-_cZV5tG",
        "colab_type": "code",
        "colab": {
          "base_uri": "https://localhost:8080/",
          "height": 516
        },
        "outputId": "35563bcb-e3f1-4175-d3d1-f6d7ecaad2fc"
      },
      "source": [
        "x_label = []\n",
        "for i in clust_df.columns:\n",
        "  x_label.append(str(int(i)))\n",
        "plt.figure(figsize=(20,8))\n",
        "plt.imshow(clust_df, aspect='auto', cmap='Blues')\n",
        "plt.yticks(np.arange(clust_df.index.values.shape[0]), clust_df.index.values)\n",
        "plt.xticks(np.arange(len(x_label)), x_label[::2], rotation=45)\n",
        "plt.xlabel('Wavenumber [cm]')\n",
        "plt.ylabel('Temperature [C]')\n",
        "plt.locator_params(axis='x', nbins=len(x_label)/2)\n",
        "plt.colorbar()\n",
        "plt.savefig(\"moving_window_7.png\", bbox_inches = 'tight')\n",
        "files.download(\"moving_window_7.png\")\n",
        "plt.show()"
      ],
      "execution_count": 95,
      "outputs": [
        {
          "output_type": "display_data",
          "data": {
            "image/png": "[encoded data removed]",
            "text/plain": [
              "<Figure size 1440x576 with 2 Axes>"
            ]
          },
          "metadata": {
            "tags": [],
            "needs_background": "light"
          }
        }
      ]
    },
    {
      "cell_type": "code",
      "metadata": {
        "id": "a2EM62L6WF7g",
        "colab_type": "code",
        "colab": {}
      },
      "source": [
        ""
      ],
      "execution_count": 0,
      "outputs": []
    }
  ]
}