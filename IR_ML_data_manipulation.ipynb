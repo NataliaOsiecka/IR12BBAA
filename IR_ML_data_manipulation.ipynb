{
  "nbformat": 4,
  "nbformat_minor": 0,
  "metadata": {
    "colab": {
      "name": "IR_ML-data-manipulation.ipynb",
      "provenance": [],
      "mount_file_id": "1aWQF1_CKiW0Mg77DBe8fiiJCYKAKEfad",
      "authorship_tag": "ABX9TyMnyelwX065duwyUPnzTtGP",
      "include_colab_link": true
    },
    "kernelspec": {
      "name": "python3",
      "display_name": "Python 3"
    }
  },
  "cells": [
    {
      "cell_type": "markdown",
      "metadata": {
        "id": "view-in-github",
        "colab_type": "text"
      },
      "source": [
        "<a href=\"https://colab.research.google.com/github/NataliaOsiecka/IR12BBAA/blob/master/IR_ML_data_manipulation.ipynb\" target=\"_parent\"><img src=\"https://colab.research.google.com/assets/colab-badge.svg\" alt=\"Open In Colab\"/></a>"
      ]
    },
    {
      "cell_type": "code",
      "metadata": {
        "id": "jOsHFhTWuLOg",
        "colab_type": "code",
        "outputId": "47f573c4-9396-4aa0-ee30-a0db19463942",
        "colab": {
          "base_uri": "https://localhost:8080/",
          "height": 34
        }
      },
      "source": [
        "cd '/content/drive/My Drive/IR_ML'\n"
      ],
      "execution_count": 0,
      "outputs": [
        {
          "output_type": "stream",
          "text": [
            "/content/drive/My Drive/IR_ML\n"
          ],
          "name": "stdout"
        }
      ]
    },
    {
      "cell_type": "code",
      "metadata": {
        "id": "C7v7QhnmwR7P",
        "colab_type": "code",
        "outputId": "89580bf6-f61a-4877-dea8-8f6a35f53fd9",
        "colab": {
          "base_uri": "https://localhost:8080/",
          "height": 153
        }
      },
      "source": [
        "ls"
      ],
      "execution_count": 0,
      "outputs": [
        {
          "output_type": "stream",
          "text": [
            "12BBAAT100P0.CSV  12BBAAT108P0.CSV  12BBAAT116P0.CSV  12BBAAT93P0.CSV\n",
            "12BBAAT101P0.CSV  12BBAAT109P0.CSV  12BBAAT117P0.CSV  12BBAAT94P0.CSV\n",
            "12BBAAT102P0.CSV  12BBAAT110P0.CSV  12BBAAT118P0.CSV  12BBAAT95P0.CSV\n",
            "12BBAAT103P0.CSV  12BBAAT111P0.CSV  12BBAAT119P0.CSV  12BBAAT96P0.CSV\n",
            "12BBAAT104P0.CSV  12BBAAT112P0.CSV  12BBAAT120P0.CSV  12BBAAT97P0.CSV\n",
            "12BBAAT105P0.CSV  12BBAAT113P0.CSV  12BBAAT90P0.CSV   12BBAAT98P0.CSV\n",
            "12BBAAT106P0.CSV  12BBAAT114P0.CSV  12BBAAT91P0.CSV   12BBAAT99P0.CSV\n",
            "12BBAAT107P0.CSV  12BBAAT115P0.CSV  12BBAAT92P0.CSV\n"
          ],
          "name": "stdout"
        }
      ]
    },
    {
      "cell_type": "code",
      "metadata": {
        "id": "z2hs35D3yOnP",
        "colab_type": "code",
        "colab": {}
      },
      "source": [
        "import glob\n",
        "import matplotlib.pyplot as plt\n",
        "import numpy as np\n",
        "import pandas as pd\n",
        "import seaborn as sns\n",
        "\n",
        "from scipy.cluster.hierarchy import dendrogram, linkage\n",
        "from sklearn.cluster import KMeans"
      ],
      "execution_count": 0,
      "outputs": []
    },
    {
      "cell_type": "code",
      "metadata": {
        "id": "mq0L-UkMwdfP",
        "colab_type": "code",
        "outputId": "94b25a43-8de3-4b37-968a-922f7e9e1f0e",
        "colab": {
          "base_uri": "https://localhost:8080/",
          "height": 54
        }
      },
      "source": [
        "filenames=(glob.glob('12BBAAT*.CSV', recursive=True))\n",
        "print(filenames)\n",
        "\n",
        "df=np.zeros((1869,32))\n",
        "temperature=[]\n",
        "\n",
        "for i, item in enumerate(filenames):\n",
        "    t=item[7:]\n",
        "    temp=t[:-6]\n",
        "    temperature.append(temp)\n",
        "    data=np.loadtxt(item, delimiter=',')\n",
        "    if data.shape[0]<1869:\n",
        "        for j,it in enumerate(data[:,1]):\n",
        "            df[j,i+1]=it\n",
        "    else:\n",
        "        df[:,i+1]=data[:,1]\n",
        "        df[:,0]=data[:,0]\n",
        "\n",
        "df_new=df[125:1505,:]\n",
        "\n",
        "pd_df=pd.DataFrame(data=df_new[:,1:], \n",
        "                   index=df_new[:,0],\n",
        "                   columns=temperature)"
      ],
      "execution_count": 0,
      "outputs": [
        {
          "output_type": "stream",
          "text": [
            "['12BBAAT120P0.CSV', '12BBAAT119P0.CSV', '12BBAAT118P0.CSV', '12BBAAT117P0.CSV', '12BBAAT116P0.CSV', '12BBAAT115P0.CSV', '12BBAAT114P0.CSV', '12BBAAT113P0.CSV', '12BBAAT112P0.CSV', '12BBAAT111P0.CSV', '12BBAAT110P0.CSV', '12BBAAT109P0.CSV', '12BBAAT108P0.CSV', '12BBAAT107P0.CSV', '12BBAAT106P0.CSV', '12BBAAT105P0.CSV', '12BBAAT104P0.CSV', '12BBAAT103P0.CSV', '12BBAAT102P0.CSV', '12BBAAT101P0.CSV', '12BBAAT100P0.CSV', '12BBAAT99P0.CSV', '12BBAAT98P0.CSV', '12BBAAT97P0.CSV', '12BBAAT96P0.CSV', '12BBAAT95P0.CSV', '12BBAAT94P0.CSV', '12BBAAT93P0.CSV', '12BBAAT92P0.CSV', '12BBAAT91P0.CSV', '12BBAAT90P0.CSV']\n"
          ],
          "name": "stdout"
        }
      ]
    },
    {
      "cell_type": "code",
      "metadata": {
        "id": "brrJfvqbyL3X",
        "colab_type": "code",
        "outputId": "06505f84-c88a-429f-da3d-efd4d5107c69",
        "colab": {
          "base_uri": "https://localhost:8080/",
          "height": 264
        }
      },
      "source": [
        "for i in range(1,df.shape[1]):    \n",
        "    plt.scatter(df_new[:,0], df_new[:,i])\n",
        "plt.show()"
      ],
      "execution_count": 0,
      "outputs": [
        {
          "output_type": "display_data",
          "data": {
            "image/png": "[encoded data removed]",
            "text/plain": [
              "<Figure size 432x288 with 1 Axes>"
            ]
          },
          "metadata": {
            "tags": [],
            "needs_background": "light"
          }
        }
      ]
    },
    {
      "cell_type": "code",
      "metadata": {
        "id": "OvRcwE38ywKs",
        "colab_type": "code",
        "outputId": "2d24b27e-4f27-4740-b0bd-4eedfa300cce",
        "colab": {
          "base_uri": "https://localhost:8080/",
          "height": 85
        }
      },
      "source": [
        "pd_df.columns.values"
      ],
      "execution_count": 0,
      "outputs": [
        {
          "output_type": "execute_result",
          "data": {
            "text/plain": [
              "array(['120', '119', '118', '117', '116', '115', '114', '113', '112',\n",
              "       '111', '110', '109', '108', '107', '106', '105', '104', '103',\n",
              "       '102', '101', '100', '99', '98', '97', '96', '95', '94', '93',\n",
              "       '92', '91', '90'], dtype=object)"
            ]
          },
          "metadata": {
            "tags": []
          },
          "execution_count": 21
        }
      ]
    },
    {
      "cell_type": "code",
      "metadata": {
        "id": "dLaVYdelzsKS",
        "colab_type": "code",
        "outputId": "a72f2365-7f4e-4dc8-a0ef-8d8e8c8af53e",
        "colab": {
          "base_uri": "https://localhost:8080/",
          "height": 119
        }
      },
      "source": [
        "pd_df.index"
      ],
      "execution_count": 0,
      "outputs": [
        {
          "output_type": "execute_result",
          "data": {
            "text/plain": [
              "Float64Index([640.2611, 642.1896, 644.1181, 646.0466,  647.975, 649.9036,\n",
              "               651.832, 653.7606,  655.689, 657.6176,\n",
              "              ...\n",
              "              3282.302,  3284.23, 3286.159, 3288.088, 3290.016, 3291.945,\n",
              "              3293.873, 3295.802,  3297.73, 3299.658],\n",
              "             dtype='float64', length=1380)"
            ]
          },
          "metadata": {
            "tags": []
          },
          "execution_count": 22
        }
      ]
    },
    {
      "cell_type": "code",
      "metadata": {
        "id": "pG8DRjOzzwm2",
        "colab_type": "code",
        "outputId": "edb46a38-9ae1-4c6a-8c7d-18e5825d271a",
        "colab": {
          "base_uri": "https://localhost:8080/",
          "height": 34
        }
      },
      "source": [
        "wavenumber_list = list(pd_df.index)\n",
        "type(wavenumber_list)"
      ],
      "execution_count": 0,
      "outputs": [
        {
          "output_type": "execute_result",
          "data": {
            "text/plain": [
              "list"
            ]
          },
          "metadata": {
            "tags": []
          },
          "execution_count": 23
        }
      ]
    },
    {
      "cell_type": "code",
      "metadata": {
        "id": "KLrnBF6J1AU2",
        "colab_type": "code",
        "colab": {}
      },
      "source": [
        "drop_wavenumber = []\n",
        "for item in wavenumber_list:\n",
        "  if item > 1700 and item < 2700:\n",
        "    drop_wavenumber.append(item)\n",
        "\n",
        "pd_df.drop(drop_wavenumber, axis=0, inplace=True)"
      ],
      "execution_count": 0,
      "outputs": []
    },
    {
      "cell_type": "code",
      "metadata": {
        "id": "3jPudJR91nWN",
        "colab_type": "code",
        "outputId": "3750f6fd-884d-465b-a471-9baba4a3e68d",
        "colab": {
          "base_uri": "https://localhost:8080/",
          "height": 537
        }
      },
      "source": [
        "pd_df.plot()"
      ],
      "execution_count": 0,
      "outputs": [
        {
          "output_type": "execute_result",
          "data": {
            "text/plain": [
              "<matplotlib.axes._subplots.AxesSubplot at 0x7f02973739e8>"
            ]
          },
          "metadata": {
            "tags": []
          },
          "execution_count": 25
        },
        {
          "output_type": "display_data",
          "data": {
            "image/png": "[encoded data removed]",
            "text/plain": [
              "<Figure size 432x288 with 1 Axes>"
            ]
          },
          "metadata": {
            "tags": [],
            "needs_background": "light"
          }
        }
      ]
    },
    {
      "cell_type": "code",
      "metadata": {
        "id": "_tbRsnre2cQ-",
        "colab_type": "code",
        "outputId": "ab7220a7-c61d-4acf-c00f-297b0087a167",
        "colab": {
          "base_uri": "https://localhost:8080/",
          "height": 34
        }
      },
      "source": [
        "pd_df.shape"
      ],
      "execution_count": 0,
      "outputs": [
        {
          "output_type": "execute_result",
          "data": {
            "text/plain": [
              "(861, 31)"
            ]
          },
          "metadata": {
            "tags": []
          },
          "execution_count": 26
        }
      ]
    },
    {
      "cell_type": "code",
      "metadata": {
        "id": "rl92BwKfUrl_",
        "colab_type": "code",
        "outputId": "cc1893ff-58f9-4c86-ffde-f378a7b3004e",
        "colab": {
          "base_uri": "https://localhost:8080/",
          "height": 119
        }
      },
      "source": [
        "pd_df.index"
      ],
      "execution_count": 0,
      "outputs": [
        {
          "output_type": "execute_result",
          "data": {
            "text/plain": [
              "Float64Index([640.2611, 642.1896, 644.1181, 646.0466,  647.975, 649.9036,\n",
              "               651.832, 653.7606,  655.689, 657.6176,\n",
              "              ...\n",
              "              3282.302,  3284.23, 3286.159, 3288.088, 3290.016, 3291.945,\n",
              "              3293.873, 3295.802,  3297.73, 3299.658],\n",
              "             dtype='float64', length=861)"
            ]
          },
          "metadata": {
            "tags": []
          },
          "execution_count": 27
        }
      ]
    },
    {
      "cell_type": "code",
      "metadata": {
        "id": "D3DdZil6eGhb",
        "colab_type": "code",
        "colab": {}
      },
      "source": [
        "df_transposed = pd_df.T"
      ],
      "execution_count": 0,
      "outputs": []
    },
    {
      "cell_type": "code",
      "metadata": {
        "id": "mTOOVr9IVc8p",
        "colab_type": "code",
        "outputId": "1d1048dd-9bcd-48cf-9533-f1860bd86722",
        "colab": {
          "base_uri": "https://localhost:8080/",
          "height": 279
        }
      },
      "source": [
        "distortions = []\n",
        "for i in range(1,7):\n",
        "  km = KMeans(n_clusters = i, init='k-means++', n_init=10, max_iter=300, random_state=0)\n",
        "  km.fit(df_transposed)\n",
        "  distortions.append(km.inertia_)\n",
        "\n",
        "plt.plot(range(1,7), distortions, marker='o')\n",
        "plt.xlabel('Number of cluster')\n",
        "plt.ylabel('Distortion')\n",
        "plt.show()"
      ],
      "execution_count": 0,
      "outputs": [
        {
          "output_type": "display_data",
          "data": {
            "image/png": "[encoded data removed]",
            "text/plain": [
              "<Figure size 432x288 with 1 Axes>"
            ]
          },
          "metadata": {
            "tags": [],
            "needs_background": "light"
          }
        }
      ]
    },
    {
      "cell_type": "code",
      "metadata": {
        "id": "4Bz10Cd_eZCU",
        "colab_type": "code",
        "outputId": "d928c6f8-5d24-42d4-bd04-2ca351edc0ea",
        "colab": {
          "base_uri": "https://localhost:8080/",
          "height": 51
        }
      },
      "source": [
        "km4 = KMeans(n_clusters=4, init='k-means++', n_init=10, max_iter=300, tol=0.00001, random_state=0)\n",
        "y_km4=km4.fit_predict(df_transposed)\n",
        "y_km4\n"
      ],
      "execution_count": 0,
      "outputs": [
        {
          "output_type": "execute_result",
          "data": {
            "text/plain": [
              "array([1, 1, 1, 1, 1, 1, 3, 3, 3, 3, 3, 3, 0, 0, 0, 0, 0, 0, 0, 0, 0, 0,\n",
              "       2, 2, 2, 2, 2, 2, 2, 2, 2], dtype=int32)"
            ]
          },
          "metadata": {
            "tags": []
          },
          "execution_count": 31
        }
      ]
    },
    {
      "cell_type": "code",
      "metadata": {
        "id": "mZs4xuw3egBU",
        "colab_type": "code",
        "outputId": "bc7bb061-b383-469b-f06a-cb4e377ceff5",
        "colab": {
          "base_uri": "https://localhost:8080/",
          "height": 51
        }
      },
      "source": [
        "km3 = KMeans(n_clusters=3, init='random', n_init=10, max_iter=300, tol=0.0001, random_state=0)\n",
        "y_km3=km3.fit_predict(df_transposed)\n",
        "y_km3\n",
        "#km3.inertia_"
      ],
      "execution_count": 0,
      "outputs": [
        {
          "output_type": "execute_result",
          "data": {
            "text/plain": [
              "array([1, 1, 1, 1, 1, 1, 2, 2, 2, 2, 2, 2, 2, 2, 2, 2, 2, 2, 2, 2, 2, 2,\n",
              "       0, 0, 0, 0, 0, 0, 0, 0, 0], dtype=int32)"
            ]
          },
          "metadata": {
            "tags": []
          },
          "execution_count": 33
        }
      ]
    },
    {
      "cell_type": "code",
      "metadata": {
        "id": "65SLxMy9e5P4",
        "colab_type": "code",
        "outputId": "9121c092-ac26-4f56-eeaf-b5014ad0a644",
        "colab": {
          "base_uri": "https://localhost:8080/",
          "height": 311
        }
      },
      "source": [
        "row_clusters = linkage(df_transposed.values, method='complete', metric='euclidean')\n",
        "labels = df_transposed.index.values\n",
        "row_dendr = dendrogram(row_clusters, labels=labels)\n",
        "plt.tight_layout()\n",
        "plt.ylabel('euqliden distance')\n",
        "plt.xlabel('Temperature [C]')\n",
        "plt.show()"
      ],
      "execution_count": 0,
      "outputs": [
        {
          "output_type": "display_data",
          "data": {
            "image/png": "[encoded data removed]",
            "text/plain": [
              "<Figure size 432x288 with 1 Axes>"
            ]
          },
          "metadata": {
            "tags": [],
            "needs_background": "light"
          }
        }
      ]
    },
    {
      "cell_type": "code",
      "metadata": {
        "id": "EXZgHgJ4fkCO",
        "colab_type": "code",
        "outputId": "644d37f1-3a6b-4590-d9f7-52e6cda0abcc",
        "colab": {
          "base_uri": "https://localhost:8080/",
          "height": 51
        }
      },
      "source": [
        "from sklearn.cluster import MiniBatchKMeans\n",
        "mbk = MiniBatchKMeans(init='k-means++', n_clusters=3, batch_size=50, n_init=10, max_no_improvement=10, verbose=0 )\n",
        "y_mbk = mbk.fit_predict(df_transposed)\n",
        "y_mbk"
      ],
      "execution_count": 0,
      "outputs": [
        {
          "output_type": "execute_result",
          "data": {
            "text/plain": [
              "array([2, 2, 2, 2, 2, 2, 0, 0, 0, 0, 0, 0, 0, 0, 0, 0, 0, 0, 0, 0, 0, 0,\n",
              "       1, 1, 1, 1, 1, 1, 1, 1, 1], dtype=int32)"
            ]
          },
          "metadata": {
            "tags": []
          },
          "execution_count": 36
        }
      ]
    },
    {
      "cell_type": "code",
      "metadata": {
        "id": "cY3saHPgf-dj",
        "colab_type": "code",
        "outputId": "a045fc29-ffcf-4399-dc7d-9cd6fee9ff26",
        "colab": {
          "base_uri": "https://localhost:8080/",
          "height": 51
        }
      },
      "source": [
        "from sklearn.cluster import MiniBatchKMeans\n",
        "mbk = MiniBatchKMeans(init='k-means++', n_clusters=4, batch_size=50, n_init=10, max_no_improvement=10, verbose=0 )\n",
        "y_mbk = mbk.fit_predict(df_transposed)\n",
        "y_mbk"
      ],
      "execution_count": 0,
      "outputs": [
        {
          "output_type": "execute_result",
          "data": {
            "text/plain": [
              "array([3, 3, 3, 3, 3, 3, 1, 1, 1, 1, 1, 1, 2, 2, 2, 2, 2, 2, 2, 2, 2, 2,\n",
              "       0, 0, 0, 0, 0, 0, 0, 0, 0], dtype=int32)"
            ]
          },
          "metadata": {
            "tags": []
          },
          "execution_count": 37
        }
      ]
    },
    {
      "cell_type": "code",
      "metadata": {
        "id": "d_m8JtJFgDrc",
        "colab_type": "code",
        "colab": {}
      },
      "source": [
        ""
      ],
      "execution_count": 0,
      "outputs": []
    }
  ]
}