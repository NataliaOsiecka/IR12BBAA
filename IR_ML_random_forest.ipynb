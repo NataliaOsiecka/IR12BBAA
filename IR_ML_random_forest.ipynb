{
  "nbformat": 4,
  "nbformat_minor": 0,
  "metadata": {
    "colab": {
      "name": "IR_ML-random-forest.ipynb",
      "provenance": [],
      "mount_file_id": "1psv2vQ3UcJGzpZWuTJaI47hNpWNF8igO",
      "authorship_tag": "ABX9TyOAgaopx2BAc+dY4RzmaQBt",
      "include_colab_link": true
    },
    "kernelspec": {
      "name": "python3",
      "display_name": "Python 3"
    }
  },
  "cells": [
    {
      "cell_type": "markdown",
      "metadata": {
        "id": "view-in-github",
        "colab_type": "text"
      },
      "source": [
        "<a href=\"https://colab.research.google.com/github/NataliaOsiecka/IR12BBAA/blob/master/IR_ML_random_forest.ipynb\" target=\"_parent\"><img src=\"https://colab.research.google.com/assets/colab-badge.svg\" alt=\"Open In Colab\"/></a>"
      ]
    },
    {
      "cell_type": "code",
      "metadata": {
        "id": "_fwrXUCD2tnO",
        "colab_type": "code",
        "outputId": "c7ba32e4-1ba6-4ab2-a6b3-f9dbda2a4ef8",
        "colab": {
          "base_uri": "https://localhost:8080/",
          "height": 34
        }
      },
      "source": [
        "cd '/content/drive/My Drive/IR_ML'"
      ],
      "execution_count": 0,
      "outputs": [
        {
          "output_type": "stream",
          "text": [
            "/content/drive/My Drive/IR_ML\n"
          ],
          "name": "stdout"
        }
      ]
    },
    {
      "cell_type": "code",
      "metadata": {
        "id": "cL-7w1wN6RiD",
        "colab_type": "code",
        "outputId": "942f045d-0d81-4b37-f376-97d40bd6522a",
        "colab": {
          "base_uri": "https://localhost:8080/",
          "height": 153
        }
      },
      "source": [
        "ls"
      ],
      "execution_count": 0,
      "outputs": [
        {
          "output_type": "stream",
          "text": [
            "12BBAAT100P0.CSV  12BBAAT108P0.CSV  12BBAAT116P0.CSV  12BBAAT93P0.CSV\n",
            "12BBAAT101P0.CSV  12BBAAT109P0.CSV  12BBAAT117P0.CSV  12BBAAT94P0.CSV\n",
            "12BBAAT102P0.CSV  12BBAAT110P0.CSV  12BBAAT118P0.CSV  12BBAAT95P0.CSV\n",
            "12BBAAT103P0.CSV  12BBAAT111P0.CSV  12BBAAT119P0.CSV  12BBAAT96P0.CSV\n",
            "12BBAAT104P0.CSV  12BBAAT112P0.CSV  12BBAAT120P0.CSV  12BBAAT97P0.CSV\n",
            "12BBAAT105P0.CSV  12BBAAT113P0.CSV  12BBAAT90P0.CSV   12BBAAT98P0.CSV\n",
            "12BBAAT106P0.CSV  12BBAAT114P0.CSV  12BBAAT91P0.CSV   12BBAAT99P0.CSV\n",
            "12BBAAT107P0.CSV  12BBAAT115P0.CSV  12BBAAT92P0.CSV\n"
          ],
          "name": "stdout"
        }
      ]
    },
    {
      "cell_type": "code",
      "metadata": {
        "id": "Vqo_xEmk-R6_",
        "colab_type": "code",
        "outputId": "fb99965e-06ca-4452-c416-517ee8b2d07e",
        "colab": {
          "base_uri": "https://localhost:8080/",
          "height": 273
        }
      },
      "source": [
        "pip install eli5"
      ],
      "execution_count": 0,
      "outputs": [
        {
          "output_type": "stream",
          "text": [
            "Collecting eli5\n",
            "\u001b[?25l  Downloading https://files.pythonhosted.org/packages/97/2f/c85c7d8f8548e460829971785347e14e45fa5c6617da374711dec8cb38cc/eli5-0.10.1-py2.py3-none-any.whl (105kB)\n",
            "\r\u001b[K     |███                             | 10kB 15.1MB/s eta 0:00:01\r\u001b[K     |██████▏                         | 20kB 2.7MB/s eta 0:00:01\r\u001b[K     |█████████▎                      | 30kB 3.9MB/s eta 0:00:01\r\u001b[K     |████████████▍                   | 40kB 2.8MB/s eta 0:00:01\r\u001b[K     |███████████████▌                | 51kB 3.4MB/s eta 0:00:01\r\u001b[K     |██████████████████▋             | 61kB 4.0MB/s eta 0:00:01\r\u001b[K     |█████████████████████▊          | 71kB 4.6MB/s eta 0:00:01\r\u001b[K     |████████████████████████▊       | 81kB 3.7MB/s eta 0:00:01\r\u001b[K     |███████████████████████████▉    | 92kB 4.1MB/s eta 0:00:01\r\u001b[K     |███████████████████████████████ | 102kB 4.5MB/s eta 0:00:01\r\u001b[K     |████████████████████████████████| 112kB 4.5MB/s \n",
            "\u001b[?25hRequirement already satisfied: six in /usr/local/lib/python3.6/dist-packages (from eli5) (1.12.0)\n",
            "Requirement already satisfied: attrs>16.0.0 in /usr/local/lib/python3.6/dist-packages (from eli5) (19.3.0)\n",
            "Requirement already satisfied: graphviz in /usr/local/lib/python3.6/dist-packages (from eli5) (0.10.1)\n",
            "Requirement already satisfied: numpy>=1.9.0 in /usr/local/lib/python3.6/dist-packages (from eli5) (1.18.3)\n",
            "Requirement already satisfied: jinja2 in /usr/local/lib/python3.6/dist-packages (from eli5) (2.11.2)\n",
            "Requirement already satisfied: scikit-learn>=0.18 in /usr/local/lib/python3.6/dist-packages (from eli5) (0.22.2.post1)\n",
            "Requirement already satisfied: scipy in /usr/local/lib/python3.6/dist-packages (from eli5) (1.4.1)\n",
            "Requirement already satisfied: tabulate>=0.7.7 in /usr/local/lib/python3.6/dist-packages (from eli5) (0.8.7)\n",
            "Requirement already satisfied: MarkupSafe>=0.23 in /usr/local/lib/python3.6/dist-packages (from jinja2->eli5) (1.1.1)\n",
            "Requirement already satisfied: joblib>=0.11 in /usr/local/lib/python3.6/dist-packages (from scikit-learn>=0.18->eli5) (0.14.1)\n",
            "Installing collected packages: eli5\n",
            "Successfully installed eli5-0.10.1\n"
          ],
          "name": "stdout"
        }
      ]
    },
    {
      "cell_type": "code",
      "metadata": {
        "id": "4a5eLnW96SJi",
        "colab_type": "code",
        "outputId": "ae3719a3-7068-4a94-991a-0eb26e6c7eb8",
        "colab": {
          "base_uri": "https://localhost:8080/",
          "height": 156
        }
      },
      "source": [
        "import glob\n",
        "import matplotlib.pyplot as plt\n",
        "import numpy as np\n",
        "import pandas as pd\n",
        "import seaborn as sns\n",
        "\n",
        "from scipy.cluster.hierarchy import dendrogram, linkage\n",
        "from sklearn.tree import DecisionTreeRegressor\n",
        "from sklearn.cluster import KMeans\n",
        "\n",
        "import eli5\n",
        "from eli5.sklearn import PermutationImportance"
      ],
      "execution_count": 0,
      "outputs": [
        {
          "output_type": "stream",
          "text": [
            "/usr/local/lib/python3.6/dist-packages/statsmodels/tools/_testing.py:19: FutureWarning: pandas.util.testing is deprecated. Use the functions in the public API at pandas.testing instead.\n",
            "  import pandas.util.testing as tm\n",
            "/usr/local/lib/python3.6/dist-packages/sklearn/utils/deprecation.py:144: FutureWarning: The sklearn.metrics.scorer module is  deprecated in version 0.22 and will be removed in version 0.24. The corresponding classes / functions should instead be imported from sklearn.metrics. Anything that cannot be imported from sklearn.metrics is now part of the private API.\n",
            "  warnings.warn(message, FutureWarning)\n",
            "/usr/local/lib/python3.6/dist-packages/sklearn/utils/deprecation.py:144: FutureWarning: The sklearn.feature_selection.base module is  deprecated in version 0.22 and will be removed in version 0.24. The corresponding classes / functions should instead be imported from sklearn.feature_selection. Anything that cannot be imported from sklearn.feature_selection is now part of the private API.\n",
            "  warnings.warn(message, FutureWarning)\n",
            "Using TensorFlow backend.\n"
          ],
          "name": "stderr"
        }
      ]
    },
    {
      "cell_type": "code",
      "metadata": {
        "id": "v8jLxdEL6v2B",
        "colab_type": "code",
        "outputId": "770619e7-f799-4aea-ac91-acc4b5e30260",
        "colab": {
          "base_uri": "https://localhost:8080/",
          "height": 54
        }
      },
      "source": [
        "filenames=(glob.glob('12BBAAT*.CSV', recursive=True))\n",
        "print(filenames)\n",
        "\n",
        "df=np.zeros((1869,32))\n",
        "temperature=[]\n",
        "\n",
        "for i, item in enumerate(filenames):\n",
        "    t=item[7:]\n",
        "    temp=t[:-6]\n",
        "    temperature.append(temp)\n",
        "    data=np.loadtxt(item, delimiter=',')\n",
        "    if data.shape[0]<1869:\n",
        "        for j,it in enumerate(data[:,1]):\n",
        "            df[j,i+1]=it\n",
        "    else:\n",
        "        df[:,i+1]=data[:,1]\n",
        "        df[:,0]=data[:,0]\n",
        "\n",
        "df_new=df[125:1505,:]\n",
        "\n",
        "pd_df=pd.DataFrame(data=df_new[:,1:], \n",
        "                   index=df_new[:,0],\n",
        "                   columns=temperature)"
      ],
      "execution_count": 0,
      "outputs": [
        {
          "output_type": "stream",
          "text": [
            "['12BBAAT120P0.CSV', '12BBAAT119P0.CSV', '12BBAAT118P0.CSV', '12BBAAT117P0.CSV', '12BBAAT116P0.CSV', '12BBAAT115P0.CSV', '12BBAAT114P0.CSV', '12BBAAT113P0.CSV', '12BBAAT112P0.CSV', '12BBAAT111P0.CSV', '12BBAAT110P0.CSV', '12BBAAT109P0.CSV', '12BBAAT108P0.CSV', '12BBAAT107P0.CSV', '12BBAAT106P0.CSV', '12BBAAT105P0.CSV', '12BBAAT104P0.CSV', '12BBAAT103P0.CSV', '12BBAAT102P0.CSV', '12BBAAT101P0.CSV', '12BBAAT100P0.CSV', '12BBAAT99P0.CSV', '12BBAAT98P0.CSV', '12BBAAT97P0.CSV', '12BBAAT96P0.CSV', '12BBAAT95P0.CSV', '12BBAAT94P0.CSV', '12BBAAT93P0.CSV', '12BBAAT92P0.CSV', '12BBAAT91P0.CSV', '12BBAAT90P0.CSV']\n"
          ],
          "name": "stdout"
        }
      ]
    },
    {
      "cell_type": "code",
      "metadata": {
        "id": "PncOlEov69a_",
        "colab_type": "code",
        "outputId": "62e869e6-544f-4cdd-c1a7-2a7dd977da05",
        "colab": {
          "base_uri": "https://localhost:8080/",
          "height": 34
        }
      },
      "source": [
        "df_transposed = pd_df.T\n",
        "type(list(df_transposed.index))"
      ],
      "execution_count": 0,
      "outputs": [
        {
          "output_type": "execute_result",
          "data": {
            "text/plain": [
              "list"
            ]
          },
          "metadata": {
            "tags": []
          },
          "execution_count": 6
        }
      ]
    },
    {
      "cell_type": "code",
      "metadata": {
        "id": "-v6jBU5y7JqL",
        "colab_type": "code",
        "outputId": "17dfdeb8-b4d1-4376-ee50-97577c520717",
        "colab": {
          "base_uri": "https://localhost:8080/",
          "height": 296
        }
      },
      "source": [
        "from sklearn.ensemble import RandomForestClassifier\n",
        "\n",
        "X = df_transposed\n",
        "y = list(df_transposed.index)\n",
        "m = RandomForestClassifier(n_estimators=500, criterion='gini', max_depth=4)\n",
        "m.fit(X, y)\n",
        "important_f = m.feature_importances_\n",
        "\n",
        "x_label = []\n",
        "for i in df_transposed.columns:\n",
        "  x_label.append(str(i))\n",
        "\n",
        "plt.plot(important_f)\n",
        "plt.xticks(np.arange(len(x_label)), x_label[::110], rotation=45)\n",
        "plt.locator_params(axis='x', nbins=len(x_label)/110)\n",
        "plt.show()\n",
        "\n",
        "#imp = PermutationImportance(m, random_state=0).fit(X,y)\n",
        "#eli5.show_weights(imp, feature_names=cat_feats)"
      ],
      "execution_count": 0,
      "outputs": [
        {
          "output_type": "display_data",
          "data": {
            "image/png": "[encoded data removed]",
            "text/plain": [
              "<Figure size 432x288 with 1 Axes>"
            ]
          },
          "metadata": {
            "tags": [],
            "needs_background": "light"
          }
        }
      ]
    },
    {
      "cell_type": "code",
      "metadata": {
        "id": "k6UrNjlS-bLF",
        "colab_type": "code",
        "outputId": "e90686eb-6b2c-43c7-b6e7-7efdc9d75486",
        "colab": {
          "base_uri": "https://localhost:8080/",
          "height": 34
        }
      },
      "source": [
        "important_features = []\n",
        "for item in enumerate(important_f):\n",
        "  if item[1]>0.0025:\n",
        "    important_features.append(item[0])\n",
        "len(important_features)"
      ],
      "execution_count": 0,
      "outputs": [
        {
          "output_type": "execute_result",
          "data": {
            "text/plain": [
              "58"
            ]
          },
          "metadata": {
            "tags": []
          },
          "execution_count": 8
        }
      ]
    },
    {
      "cell_type": "code",
      "metadata": {
        "id": "-CkwwPCt5vZI",
        "colab_type": "code",
        "outputId": "909463c5-69c1-4a4f-80fe-35d4bd10b460",
        "colab": {
          "base_uri": "https://localhost:8080/",
          "height": 34
        }
      },
      "source": [
        "drop_wavenumber = []\n",
        "for item in enumerate(important_f):\n",
        "  if item[1]<0.0025:\n",
        "    drop_wavenumber.append(item[0])\n",
        "len(drop_wavenumber)"
      ],
      "execution_count": 0,
      "outputs": [
        {
          "output_type": "execute_result",
          "data": {
            "text/plain": [
              "1322"
            ]
          },
          "metadata": {
            "tags": []
          },
          "execution_count": 9
        }
      ]
    },
    {
      "cell_type": "code",
      "metadata": {
        "id": "tkWVU1oTSHqg",
        "colab_type": "code",
        "colab": {}
      },
      "source": [
        "wavenumbers = list(df_transposed.columns)\n",
        "important_wavenumbers = list(map(lambda x: wavenumbers[x], important_features))\n",
        "drop_wavenumbers = list(map(lambda x: wavenumbers[x], drop_wavenumber))\n",
        "\n",
        "pd_df.drop(drop_wavenumbers, axis=0, inplace=True)"
      ],
      "execution_count": 0,
      "outputs": []
    },
    {
      "cell_type": "code",
      "metadata": {
        "id": "v7PmvfvcUYQH",
        "colab_type": "code",
        "colab": {}
      },
      "source": [
        "droped_df = pd_df.T"
      ],
      "execution_count": 0,
      "outputs": []
    },
    {
      "cell_type": "code",
      "metadata": {
        "id": "iEyF7TQE6_nV",
        "colab_type": "code",
        "outputId": "8bacb233-64f7-44cb-b7fd-b697d7e3d50b",
        "colab": {
          "base_uri": "https://localhost:8080/",
          "height": 34
        }
      },
      "source": [
        "droped_df.shape"
      ],
      "execution_count": 0,
      "outputs": [
        {
          "output_type": "execute_result",
          "data": {
            "text/plain": [
              "(31, 58)"
            ]
          },
          "metadata": {
            "tags": []
          },
          "execution_count": 12
        }
      ]
    },
    {
      "cell_type": "code",
      "metadata": {
        "id": "LOJQryW27DqQ",
        "colab_type": "code",
        "outputId": "c18e12cf-50b4-4a2b-f04b-22edebbcb32f",
        "colab": {
          "base_uri": "https://localhost:8080/",
          "height": 279
        }
      },
      "source": [
        "distortions = []\n",
        "for i in range(1,7):\n",
        "  km = KMeans(n_clusters = i, init='k-means++', n_init=10, max_iter=300, random_state=0)\n",
        "  km.fit(droped_df)\n",
        "  distortions.append(km.inertia_)\n",
        "\n",
        "plt.plot(range(1,7), distortions, marker='o')\n",
        "plt.xlabel('Number of cluster')\n",
        "plt.ylabel('Distortion')\n",
        "plt.show()"
      ],
      "execution_count": 0,
      "outputs": [
        {
          "output_type": "display_data",
          "data": {
            "image/png": "[encoded data removed]",
            "text/plain": [
              "<Figure size 432x288 with 1 Axes>"
            ]
          },
          "metadata": {
            "tags": [],
            "needs_background": "light"
          }
        }
      ]
    },
    {
      "cell_type": "code",
      "metadata": {
        "id": "Js5wqNyi7Pn_",
        "colab_type": "code",
        "outputId": "1d7df29f-c193-4a32-fc88-9ea93711443f",
        "colab": {
          "base_uri": "https://localhost:8080/",
          "height": 51
        }
      },
      "source": [
        "km4 = KMeans(n_clusters=4, init='k-means++', n_init=10, max_iter=300, tol=0.00001, random_state=0)\n",
        "y_km4=km4.fit_predict(droped_df)\n",
        "y_km4\n"
      ],
      "execution_count": 0,
      "outputs": [
        {
          "output_type": "execute_result",
          "data": {
            "text/plain": [
              "array([2, 2, 2, 2, 2, 2, 3, 3, 3, 3, 3, 3, 0, 0, 0, 0, 0, 0, 0, 0, 0, 0,\n",
              "       1, 1, 1, 1, 1, 1, 1, 1, 1], dtype=int32)"
            ]
          },
          "metadata": {
            "tags": []
          },
          "execution_count": 14
        }
      ]
    },
    {
      "cell_type": "code",
      "metadata": {
        "id": "DCoGe7vS7jsn",
        "colab_type": "code",
        "outputId": "081e3b92-9595-404c-cbbb-a7e44e05e545",
        "colab": {
          "base_uri": "https://localhost:8080/",
          "height": 51
        }
      },
      "source": [
        "km3 = KMeans(n_clusters=3, init='random', n_init=10, max_iter=300, tol=0.0001, random_state=0)\n",
        "y_km3=km3.fit_predict(droped_df)\n",
        "y_km3\n",
        "#km3.inertia_"
      ],
      "execution_count": 0,
      "outputs": [
        {
          "output_type": "execute_result",
          "data": {
            "text/plain": [
              "array([1, 1, 1, 1, 1, 1, 2, 2, 2, 2, 2, 2, 2, 2, 2, 2, 2, 2, 2, 2, 2, 2,\n",
              "       0, 0, 0, 0, 0, 0, 0, 0, 0], dtype=int32)"
            ]
          },
          "metadata": {
            "tags": []
          },
          "execution_count": 15
        }
      ]
    },
    {
      "cell_type": "code",
      "metadata": {
        "id": "ZzQjfZSM7y8W",
        "colab_type": "code",
        "outputId": "76fc0b88-4dcb-44c5-848e-facc24f8a6e2",
        "colab": {
          "base_uri": "https://localhost:8080/",
          "height": 311
        }
      },
      "source": [
        "row_clusters = linkage(droped_df.values, method='complete', metric='euclidean')\n",
        "labels = droped_df.index.values\n",
        "row_dendr = dendrogram(row_clusters, labels=labels)\n",
        "plt.tight_layout()\n",
        "plt.ylabel('euqliden distance')\n",
        "plt.xlabel('Temperature [C]')\n",
        "plt.show()"
      ],
      "execution_count": 0,
      "outputs": [
        {
          "output_type": "display_data",
          "data": {
            "image/png": "[encoded data removed]",
            "text/plain": [
              "<Figure size 432x288 with 1 Axes>"
            ]
          },
          "metadata": {
            "tags": [],
            "needs_background": "light"
          }
        }
      ]
    },
    {
      "cell_type": "code",
      "metadata": {
        "id": "zB5wXYDv8IdP",
        "colab_type": "code",
        "outputId": "8aea92cf-48d2-4a45-9df6-b4b9d6ecee48",
        "colab": {
          "base_uri": "https://localhost:8080/",
          "height": 51
        }
      },
      "source": [
        "from sklearn.cluster import MiniBatchKMeans\n",
        "mbk = MiniBatchKMeans(init='k-means++', n_clusters=3, batch_size=50, n_init=10, max_no_improvement=10, verbose=0 )\n",
        "y_mbk = mbk.fit_predict(droped_df)\n",
        "y_mbk"
      ],
      "execution_count": 0,
      "outputs": [
        {
          "output_type": "execute_result",
          "data": {
            "text/plain": [
              "array([2, 2, 2, 2, 2, 2, 1, 1, 1, 1, 1, 1, 1, 1, 1, 1, 1, 1, 1, 1, 1, 1,\n",
              "       0, 0, 0, 0, 0, 0, 0, 0, 0], dtype=int32)"
            ]
          },
          "metadata": {
            "tags": []
          },
          "execution_count": 17
        }
      ]
    },
    {
      "cell_type": "code",
      "metadata": {
        "id": "ArAFR2_grA_K",
        "colab_type": "code",
        "outputId": "9b20b000-d7de-4a95-edc5-d90a4d42e12e",
        "colab": {
          "base_uri": "https://localhost:8080/",
          "height": 51
        }
      },
      "source": [
        "from sklearn.cluster import MiniBatchKMeans\n",
        "mbk1 = MiniBatchKMeans(init='k-means++', n_clusters=4, batch_size=50, n_init=10, max_no_improvement=10, verbose=0 )\n",
        "y_mbk1 = mbk1.fit_predict(droped_df)\n",
        "y_mbk1"
      ],
      "execution_count": 0,
      "outputs": [
        {
          "output_type": "execute_result",
          "data": {
            "text/plain": [
              "array([3, 3, 3, 3, 3, 3, 0, 0, 0, 0, 0, 0, 2, 2, 2, 2, 2, 2, 2, 2, 2, 2,\n",
              "       1, 1, 1, 1, 1, 1, 1, 1, 1], dtype=int32)"
            ]
          },
          "metadata": {
            "tags": []
          },
          "execution_count": 18
        }
      ]
    },
    {
      "cell_type": "code",
      "metadata": {
        "id": "_H8fh8fzrV0i",
        "colab_type": "code",
        "outputId": "932f4587-b98c-4ca2-88d6-cebb24dabcc8",
        "colab": {
          "base_uri": "https://localhost:8080/",
          "height": 521
        }
      },
      "source": [
        "droped_df.T.plot()"
      ],
      "execution_count": 0,
      "outputs": [
        {
          "output_type": "execute_result",
          "data": {
            "text/plain": [
              "<matplotlib.axes._subplots.AxesSubplot at 0x7fd7d72ba8d0>"
            ]
          },
          "metadata": {
            "tags": []
          },
          "execution_count": 19
        },
        {
          "output_type": "display_data",
          "data": {
            "image/png": "[encoded data removed]",
            "text/plain": [
              "<Figure size 432x288 with 1 Axes>"
            ]
          },
          "metadata": {
            "tags": [],
            "needs_background": "light"
          }
        }
      ]
    },
    {
      "cell_type": "code",
      "metadata": {
        "id": "HXLwhj82WFXX",
        "colab_type": "code",
        "outputId": "ec844b8d-af44-4ae2-d346-35f468a69e15",
        "colab": {
          "base_uri": "https://localhost:8080/",
          "height": 34
        }
      },
      "source": [
        "drop_wavenumber1 = []\n",
        "for item in enumerate(important_f):\n",
        "  if item[1]<0.002:\n",
        "    drop_wavenumber1.append(item[0])\n",
        "len(drop_wavenumber1)"
      ],
      "execution_count": 0,
      "outputs": [
        {
          "output_type": "execute_result",
          "data": {
            "text/plain": [
              "1264"
            ]
          },
          "metadata": {
            "tags": []
          },
          "execution_count": 20
        }
      ]
    },
    {
      "cell_type": "code",
      "metadata": {
        "id": "8YQyqjZcXW2A",
        "colab_type": "code",
        "colab": {}
      },
      "source": [
        "pd_df=pd.DataFrame(data=df_new[:,1:], \n",
        "                   index=df_new[:,0],\n",
        "                   columns=temperature)"
      ],
      "execution_count": 0,
      "outputs": []
    },
    {
      "cell_type": "code",
      "metadata": {
        "id": "06YAOfsYX8JR",
        "colab_type": "code",
        "colab": {}
      },
      "source": [
        "drop_wavenumbers = list(map(lambda x: wavenumbers[x], drop_wavenumber1))\n",
        "\n",
        "pd_df.drop(drop_wavenumbers, axis=0, inplace=True)"
      ],
      "execution_count": 0,
      "outputs": []
    },
    {
      "cell_type": "code",
      "metadata": {
        "id": "YTD9k_QjYYu1",
        "colab_type": "code",
        "outputId": "07e1e518-941c-44c5-f69a-1a0bb440a1f9",
        "colab": {
          "base_uri": "https://localhost:8080/",
          "height": 34
        }
      },
      "source": [
        "droped_df = pd_df.T\n",
        "droped_df.shape"
      ],
      "execution_count": 0,
      "outputs": [
        {
          "output_type": "execute_result",
          "data": {
            "text/plain": [
              "(31, 116)"
            ]
          },
          "metadata": {
            "tags": []
          },
          "execution_count": 23
        }
      ]
    },
    {
      "cell_type": "code",
      "metadata": {
        "id": "c8yJCVQJYMPG",
        "colab_type": "code",
        "outputId": "e1c351c2-f3e2-42dd-a78a-52c946038a50",
        "colab": {
          "base_uri": "https://localhost:8080/",
          "height": 311
        }
      },
      "source": [
        "row_clusters = linkage(droped_df.values, method='complete', metric='euclidean')\n",
        "labels = droped_df.index.values\n",
        "row_dendr = dendrogram(row_clusters, labels=labels)\n",
        "plt.tight_layout()\n",
        "plt.ylabel('euqliden distance')\n",
        "plt.xlabel('Temperature [C]')\n",
        "plt.show()"
      ],
      "execution_count": 0,
      "outputs": [
        {
          "output_type": "display_data",
          "data": {
            "image/png": "[encoded data removed]",
            "text/plain": [
              "<Figure size 432x288 with 1 Axes>"
            ]
          },
          "metadata": {
            "tags": [],
            "needs_background": "light"
          }
        }
      ]
    },
    {
      "cell_type": "code",
      "metadata": {
        "id": "TeU-cysPYj7e",
        "colab_type": "code",
        "outputId": "ee1f073a-8ebb-42a3-c5d9-996503f2521f",
        "colab": {
          "base_uri": "https://localhost:8080/",
          "height": 279
        }
      },
      "source": [
        "distortions = []\n",
        "for i in range(1,7):\n",
        "  km = KMeans(n_clusters = i, init='k-means++', n_init=10, max_iter=300, random_state=0)\n",
        "  km.fit(droped_df)\n",
        "  distortions.append(km.inertia_)\n",
        "\n",
        "plt.plot(range(1,7), distortions, marker='o')\n",
        "plt.xlabel('Number of cluster')\n",
        "plt.ylabel('Distortion')\n",
        "plt.show()"
      ],
      "execution_count": 0,
      "outputs": [
        {
          "output_type": "display_data",
          "data": {
            "image/png": "[encoded data removed]",
            "text/plain": [
              "<Figure size 432x288 with 1 Axes>"
            ]
          },
          "metadata": {
            "tags": [],
            "needs_background": "light"
          }
        }
      ]
    },
    {
      "cell_type": "code",
      "metadata": {
        "id": "QVXNaUkVYwfB",
        "colab_type": "code",
        "outputId": "25e14abe-9880-4b1a-9332-641cd4781313",
        "colab": {
          "base_uri": "https://localhost:8080/",
          "height": 51
        }
      },
      "source": [
        "km4 = KMeans(n_clusters=4, init='k-means++', n_init=10, max_iter=300, tol=0.00001, random_state=0)\n",
        "y_km4=km4.fit_predict(droped_df)\n",
        "y_km4\n"
      ],
      "execution_count": 0,
      "outputs": [
        {
          "output_type": "execute_result",
          "data": {
            "text/plain": [
              "array([2, 2, 2, 2, 2, 2, 3, 3, 3, 3, 3, 3, 0, 0, 3, 0, 0, 0, 0, 0, 0, 0,\n",
              "       1, 1, 1, 1, 1, 1, 1, 1, 1], dtype=int32)"
            ]
          },
          "metadata": {
            "tags": []
          },
          "execution_count": 26
        }
      ]
    },
    {
      "cell_type": "code",
      "metadata": {
        "id": "0TqmcubWaXq9",
        "colab_type": "code",
        "outputId": "b81c7151-12a0-47af-854f-73520464876a",
        "colab": {
          "base_uri": "https://localhost:8080/",
          "height": 51
        }
      },
      "source": [
        "km4 = KMeans(n_clusters=3, init='k-means++', n_init=10, max_iter=300, tol=0.00001, random_state=0)\n",
        "y_km4=km4.fit_predict(droped_df)\n",
        "y_km4\n"
      ],
      "execution_count": 0,
      "outputs": [
        {
          "output_type": "execute_result",
          "data": {
            "text/plain": [
              "array([2, 2, 2, 2, 2, 2, 0, 0, 0, 0, 0, 0, 0, 0, 0, 0, 0, 0, 0, 0, 0, 0,\n",
              "       1, 1, 1, 1, 1, 1, 1, 1, 1], dtype=int32)"
            ]
          },
          "metadata": {
            "tags": []
          },
          "execution_count": 27
        }
      ]
    },
    {
      "cell_type": "code",
      "metadata": {
        "id": "PjNxy7_9adE3",
        "colab_type": "code",
        "colab": {}
      },
      "source": [
        ""
      ],
      "execution_count": 0,
      "outputs": []
    }
  ]
}